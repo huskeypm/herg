{
 "cells": [
  {
   "cell_type": "markdown",
   "metadata": {},
   "source": [
    "This is a notebook to compute the true positive rates for predicting insolubility using MD data, using conditional probabilities"
   ]
  },
  {
   "cell_type": "code",
   "execution_count": 1,
   "metadata": {},
   "outputs": [],
   "source": [
    "import os\n",
    "import matplotlib.pylab as plt\n",
    "import numpy as np\n",
    "import pandas as pd\n",
    "import itertools\n",
    "import matplotlib.gridspec as gridspec\n",
    "\n",
    "%matplotlib inline\n",
    "%reload_ext autoreload\n",
    "%autoreload 2\n",
    "\n",
    "#from sklearn.cross_validation import train_test_split\n",
    "from sklearn.model_selection import train_test_split\n",
    "from sklearn.tree import DecisionTreeClassifier\n",
    "from sklearn import tree\n",
    "from sklearn.linear_model import LogisticRegression\n",
    "from sklearn.svm import SVC\n",
    "from sklearn.ensemble import RandomForestClassifier\n",
    "from sklearn.datasets import make_classification\n",
    "\n",
    "from sklearn import metrics\n",
    "from sklearn.metrics import accuracy_score, confusion_matrix, classification_report, plot_confusion_matrix, plot_roc_curve\n",
    "\n",
    "#from mlxtend.data import iris_data # I don't have this installed\n",
    "from sklearn.utils import resample\n",
    "\n",
    "import os\n",
    "import math\n",
    "from math import floor, ceil\n",
    "\n",
    "from six import StringIO\n",
    "#from sklearn.externals.six import StringIO  \n",
    "from IPython.display import Image  \n",
    "from sklearn.tree import export_graphviz\n",
    "#import pydotplus # don't have installed "
   ]
  },
  {
   "cell_type": "code",
   "execution_count": 2,
   "metadata": {},
   "outputs": [
    {
     "data": {
      "text/html": [
       "<div>\n",
       "<style scoped>\n",
       "    .dataframe tbody tr th:only-of-type {\n",
       "        vertical-align: middle;\n",
       "    }\n",
       "\n",
       "    .dataframe tbody tr th {\n",
       "        vertical-align: top;\n",
       "    }\n",
       "\n",
       "    .dataframe thead th {\n",
       "        text-align: right;\n",
       "    }\n",
       "</style>\n",
       "<table border=\"1\" class=\"dataframe\">\n",
       "  <thead>\n",
       "    <tr style=\"text-align: right;\">\n",
       "      <th></th>\n",
       "      <th>VARIANT</th>\n",
       "      <th>HELIX</th>\n",
       "      <th>TURNS</th>\n",
       "      <th>COILS</th>\n",
       "      <th>THREE-TEN</th>\n",
       "      <th>BETA</th>\n",
       "      <th>ISOLATED</th>\n",
       "      <th>RMSD</th>\n",
       "      <th>HBONDS</th>\n",
       "      <th>SASA</th>\n",
       "      <th>WATERS</th>\n",
       "      <th>FOLDX</th>\n",
       "      <th>CONSERVATION</th>\n",
       "      <th>HYDROPHOBICITY</th>\n",
       "      <th>CLASS</th>\n",
       "      <th>TRAFFICKING</th>\n",
       "    </tr>\n",
       "  </thead>\n",
       "  <tbody>\n",
       "    <tr>\n",
       "      <th>0</th>\n",
       "      <td>a32t</td>\n",
       "      <td>21.1567</td>\n",
       "      <td>21.2058</td>\n",
       "      <td>14.4202</td>\n",
       "      <td>3.29401</td>\n",
       "      <td>39.6439</td>\n",
       "      <td>0.279349</td>\n",
       "      <td>1.23560</td>\n",
       "      <td>66.7186</td>\n",
       "      <td>6473.83</td>\n",
       "      <td>1479.93</td>\n",
       "      <td>3.763310</td>\n",
       "      <td>-0.549</td>\n",
       "      <td>-0.43</td>\n",
       "      <td>1</td>\n",
       "      <td>1</td>\n",
       "    </tr>\n",
       "    <tr>\n",
       "      <th>1</th>\n",
       "      <td>a57p</td>\n",
       "      <td>20.4290</td>\n",
       "      <td>21.8332</td>\n",
       "      <td>14.5935</td>\n",
       "      <td>3.53135</td>\n",
       "      <td>39.4690</td>\n",
       "      <td>0.144014</td>\n",
       "      <td>1.28151</td>\n",
       "      <td>66.0936</td>\n",
       "      <td>6477.76</td>\n",
       "      <td>1526.79</td>\n",
       "      <td>-0.764827</td>\n",
       "      <td>-0.312</td>\n",
       "      <td>-0.32</td>\n",
       "      <td>0</td>\n",
       "      <td>1</td>\n",
       "    </tr>\n",
       "    <tr>\n",
       "      <th>2</th>\n",
       "      <td>a78p</td>\n",
       "      <td>20.8206</td>\n",
       "      <td>21.3096</td>\n",
       "      <td>14.5379</td>\n",
       "      <td>3.19232</td>\n",
       "      <td>39.9190</td>\n",
       "      <td>0.220522</td>\n",
       "      <td>1.12505</td>\n",
       "      <td>65.8526</td>\n",
       "      <td>6479.56</td>\n",
       "      <td>1474.41</td>\n",
       "      <td>0.759351</td>\n",
       "      <td>1.487</td>\n",
       "      <td>-0.32</td>\n",
       "      <td>1</td>\n",
       "      <td>1</td>\n",
       "    </tr>\n",
       "    <tr>\n",
       "      <th>3</th>\n",
       "      <td>a85v</td>\n",
       "      <td>20.8686</td>\n",
       "      <td>21.4237</td>\n",
       "      <td>14.6775</td>\n",
       "      <td>3.12031</td>\n",
       "      <td>39.6774</td>\n",
       "      <td>0.232523</td>\n",
       "      <td>1.16450</td>\n",
       "      <td>65.4562</td>\n",
       "      <td>6544.62</td>\n",
       "      <td>1492.34</td>\n",
       "      <td>2.430410</td>\n",
       "      <td>-0.518</td>\n",
       "      <td>0.29</td>\n",
       "      <td>1</td>\n",
       "      <td>1</td>\n",
       "    </tr>\n",
       "    <tr>\n",
       "      <th>4</th>\n",
       "      <td>c108r</td>\n",
       "      <td>22.1452</td>\n",
       "      <td>21.1476</td>\n",
       "      <td>15.3975</td>\n",
       "      <td>2.75727</td>\n",
       "      <td>38.2283</td>\n",
       "      <td>0.324033</td>\n",
       "      <td>1.58552</td>\n",
       "      <td>62.7131</td>\n",
       "      <td>6753.12</td>\n",
       "      <td>1548.93</td>\n",
       "      <td>6.958320</td>\n",
       "      <td>0.745</td>\n",
       "      <td>-1.84</td>\n",
       "      <td>1</td>\n",
       "      <td>0</td>\n",
       "    </tr>\n",
       "  </tbody>\n",
       "</table>\n",
       "</div>"
      ],
      "text/plain": [
       "  VARIANT    HELIX    TURNS    COILS  THREE-TEN     BETA  ISOLATED     RMSD  \\\n",
       "0    a32t  21.1567  21.2058  14.4202    3.29401  39.6439  0.279349  1.23560   \n",
       "1    a57p  20.4290  21.8332  14.5935    3.53135  39.4690  0.144014  1.28151   \n",
       "2    a78p  20.8206  21.3096  14.5379    3.19232  39.9190  0.220522  1.12505   \n",
       "3    a85v  20.8686  21.4237  14.6775    3.12031  39.6774  0.232523  1.16450   \n",
       "4   c108r  22.1452  21.1476  15.3975    2.75727  38.2283  0.324033  1.58552   \n",
       "\n",
       "    HBONDS     SASA   WATERS     FOLDX  CONSERVATION  HYDROPHOBICITY  CLASS  \\\n",
       "0  66.7186  6473.83  1479.93  3.763310        -0.549           -0.43      1   \n",
       "1  66.0936  6477.76  1526.79 -0.764827        -0.312           -0.32      0   \n",
       "2  65.8526  6479.56  1474.41  0.759351         1.487           -0.32      1   \n",
       "3  65.4562  6544.62  1492.34  2.430410        -0.518            0.29      1   \n",
       "4  62.7131  6753.12  1548.93  6.958320         0.745           -1.84      1   \n",
       "\n",
       "   TRAFFICKING  \n",
       "0            1  \n",
       "1            1  \n",
       "2            1  \n",
       "3            1  \n",
       "4            0  "
      ]
     },
     "execution_count": 2,
     "metadata": {},
     "output_type": "execute_result"
    }
   ],
   "source": [
    "#dataFile = \"/home/pkekeneshuskey/DL/features-latest-sets1n2.txt\"\n",
    "dataFile = \"feature_sets/features-latest-sets1n2.txt\"\n",
    "\n",
    "df = pd.read_csv(dataFile, sep=\"\\s+\", comment='#')\n",
    "df.head()"
   ]
  },
  {
   "cell_type": "markdown",
   "metadata": {},
   "source": [
    "- First print all column headers so you can select which ones you want to use for analysis\n",
    "- Select subset you want to use"
   ]
  },
  {
   "cell_type": "code",
   "execution_count": 4,
   "metadata": {},
   "outputs": [
    {
     "name": "stdout",
     "output_type": "stream",
     "text": [
      "VARIANT\n",
      "HELIX\n",
      "TURNS\n",
      "COILS\n",
      "THREE-TEN\n",
      "BETA\n",
      "ISOLATED\n",
      "RMSD\n",
      "HBONDS\n",
      "SASA\n",
      "WATERS\n",
      "FOLDX\n",
      "CONSERVATION\n",
      "HYDROPHOBICITY\n",
      "CLASS\n",
      "TRAFFICKING\n"
     ]
    }
   ],
   "source": [
    "# get list of features\n",
    "for col in df.columns:\n",
    "    print(col)\n",
    "    \n",
    "\n",
    "tags = ['RMSD','HBONDS','WATERS','SASA','HELIX','TURNS','COILS','BETA','THREE-TEN']    \n",
    "tags = ['RMSD']"
   ]
  },
  {
   "cell_type": "code",
   "execution_count": 5,
   "metadata": {},
   "outputs": [],
   "source": [
    "import dataUtil as dU"
   ]
  },
  {
   "cell_type": "code",
   "execution_count": 11,
   "metadata": {},
   "outputs": [
    {
     "name": "stdout",
     "output_type": "stream",
     "text": [
      "RMSD 0.125 0.43283582089552236 75.0 dRMSD\n"
     ]
    },
    {
     "data": {
      "image/png": "[encoded data removed]",
      "text/plain": [
       "<Figure size 432x288 with 1 Axes>"
      ]
     },
     "metadata": {
      "needs_background": "light"
     },
     "output_type": "display_data"
    }
   ],
   "source": [
    "display=True\n",
    "wtName = \"wt\"\n",
    "\n",
    "for tag in tags:\n",
    "    dU.ShapeData(df,tag,wtName,display=display)"
   ]
  },
  {
   "cell_type": "code",
   "execution_count": 12,
   "metadata": {},
   "outputs": [
    {
     "name": "stdout",
     "output_type": "stream",
     "text": [
      "['dRMSD']\n"
     ]
    }
   ],
   "source": [
    "dTags = [\"d\"+t for t in tags]\n",
    "print(dTags)"
   ]
  },
  {
   "cell_type": "markdown",
   "metadata": {},
   "source": [
    "Computes \n",
    "$P(Insol | feature > \\lambda)$\n",
    "and \n",
    "$\\Pi P(Insol | feature_i > \\lambda)$\n",
    "\n",
    "I've verified that I am computing the correct conditional probability for each feature and variant\n",
    "\n",
    "\n",
    "* Note: adjust the value_variant-value_wt order to make sure all plots are roughly monotonically increasing * "
   ]
  },
  {
   "cell_type": "code",
   "execution_count": 16,
   "metadata": {
    "scrolled": false
   },
   "outputs": [
    {
     "data": {
      "image/png": "[encoded data removed]",
      "text/plain": [
       "<Figure size 432x288 with 1 Axes>"
      ]
     },
     "metadata": {
      "needs_background": "light"
     },
     "output_type": "display_data"
    }
   ],
   "source": [
    "tagsSubset = dTags  # replace with tags = ['dRMSD','dHBONDS','dWATERS'] if want to use smaller feature set\n",
    "\n",
    "\n",
    "df_train = df\n",
    "dU.ProdCondProbs(dTags,df,df_train,display=True)\n",
    "    "
   ]
  },
  {
   "cell_type": "markdown",
   "metadata": {},
   "source": [
    "The product of conditional probabilities gives the likelihood that a member is defective (insoluble), given the products of being insoluble for each feature.\n",
    "We then pick a 'reasonable' threshold to decide if a member is insoluble"
   ]
  },
  {
   "cell_type": "code",
   "execution_count": 19,
   "metadata": {
    "scrolled": true
   },
   "outputs": [
    {
     "name": "stdout",
     "output_type": "stream",
     "text": [
      "Cutoff  0.7027027027027027\n",
      "TPR (insol) 0.7222222222222222  Support  13\n",
      "FNR (insol) 0.2982456140350877  Support  17\n"
     ]
    },
    {
     "data": {
      "image/png": "[encoded data removed]",
      "text/plain": [
       "<Figure size 432x288 with 1 Axes>"
      ]
     },
     "metadata": {
      "needs_background": "light"
     },
     "output_type": "display_data"
    }
   ],
   "source": [
    "#dummy = calcRates(df,cutoff=0.15)\n",
    "df_test = df\n",
    "dummy = dU.calcRates(df_test,cutoff=None)"
   ]
  },
  {
   "cell_type": "code",
   "execution_count": 20,
   "metadata": {},
   "outputs": [
    {
     "name": "stdout",
     "output_type": "stream",
     "text": [
      "[0.40540541 0.47147147 0.53753754 0.6036036  0.66966967 0.73573574\n",
      " 0.8018018  0.86786787 0.93393393 1.        ]\n"
     ]
    },
    {
     "data": {
      "image/png": "[encoded data removed]",
      "text/plain": [
       "<Figure size 432x288 with 1 Axes>"
      ]
     },
     "metadata": {
      "needs_background": "light"
     },
     "output_type": "display_data"
    }
   ],
   "source": [
    "dU.ComputeROC(df)"
   ]
  },
  {
   "cell_type": "code",
   "execution_count": null,
   "metadata": {},
   "outputs": [],
   "source": []
  }
 ],
 "metadata": {
  "kernelspec": {
   "display_name": "Python 3",
   "language": "python",
   "name": "python3"
  },
  "language_info": {
   "codemirror_mode": {
    "name": "ipython",
    "version": 3
   },
   "file_extension": ".py",
   "mimetype": "text/x-python",
   "name": "python",
   "nbconvert_exporter": "python",
   "pygments_lexer": "ipython3",
   "version": "3.8.3"
  }
 },
 "nbformat": 4,
 "nbformat_minor": 4
}
