{
 "cells": [
  {
   "cell_type": "markdown",
   "metadata": {},
   "source": [
    "## svm tree classifier for bioinformatics features"
   ]
  },
  {
   "cell_type": "markdown",
   "metadata": {},
   "source": [
    "Need to install\n",
    "- graphviz\n",
    "- sklearn\n",
    "- pydotplus\n",
    "- mlxtend"
   ]
  },
  {
   "cell_type": "markdown",
   "metadata": {},
   "source": [
    "Installs pydotplus for plotting of datatrees, since its not provided w default session. also installing graphviz"
   ]
  },
  {
   "cell_type": "code",
   "execution_count": 1,
   "metadata": {},
   "outputs": [],
   "source": [
    "#!pip3 install pydotplus\n",
    "#!pip3 install mlxtend\n",
    "#!pip3 install yellowbrick"
   ]
  },
  {
   "cell_type": "markdown",
   "metadata": {},
   "source": [
    "### Load requisite libraries"
   ]
  },
  {
   "cell_type": "code",
   "execution_count": 2,
   "metadata": {
    "scrolled": true
   },
   "outputs": [],
   "source": [
    "import matplotlib.pylab as plt\n",
    "import numpy as np\n",
    "import pandas as pd\n",
    "import itertools\n",
    "import matplotlib.gridspec as gridspec\n",
    "\n",
    "%matplotlib inline\n",
    "%reload_ext autoreload\n",
    "%autoreload 2\n",
    "\n",
    "#from sklearn.cross_validation import train_test_split\n",
    "from sklearn import tree\n",
    "from sklearn.tree import DecisionTreeClassifier, ExtraTreeClassifier\n",
    "from sklearn.linear_model import LogisticRegression\n",
    "from sklearn.svm import LinearSVC, NuSVC, SVC\n",
    "from sklearn.ensemble import RandomForestClassifier\n",
    "from sklearn.datasets import make_classification\n",
    "from sklearn.neighbors import KNeighborsClassifier\n",
    "\n",
    "from sklearn.feature_selection import RFE, RFECV\n",
    "from sklearn.model_selection import train_test_split\n",
    "\n",
    "from mlxtend.data import iris_data\n",
    "from sklearn.utils import resample\n",
    "from sklearn.pipeline import Pipeline\n",
    "from sklearn import metrics\n",
    "from sklearn.metrics import accuracy_score, confusion_matrix, classification_report, plot_confusion_matrix, plot_roc_curve\n",
    "from sklearn.preprocessing import MinMaxScaler\n",
    "\n",
    "import os"
   ]
  },
  {
   "cell_type": "markdown",
   "metadata": {},
   "source": [
    "Stuff for plotting trees"
   ]
  },
  {
   "cell_type": "code",
   "execution_count": 3,
   "metadata": {},
   "outputs": [],
   "source": [
    "from six import StringIO\n",
    "#from sklearn.externals.six import StringIO  \n",
    "from IPython.display import Image  \n",
    "from sklearn.tree import export_graphviz\n",
    "import pydotplus"
   ]
  },
  {
   "cell_type": "markdown",
   "metadata": {},
   "source": [
    "plot data"
   ]
  },
  {
   "cell_type": "code",
   "execution_count": 4,
   "metadata": {},
   "outputs": [],
   "source": [
    "def plotDT(dtree,featureNames = None,classNames=None):\n",
    "    dot_data = StringIO()\n",
    "    export_graphviz(dtree, \n",
    "                    out_file=dot_data,  \n",
    "                    feature_names = featureNames,\n",
    "                    class_names =  classNames,\n",
    "                    filled=True, \n",
    "                    rounded=True,\n",
    "                    special_characters=True)\n",
    "    graph = pydotplus.graph_from_dot_data(dot_data.getvalue())  \n",
    "    l=Image(graph.create_png())\n",
    "    return l"
   ]
  },
  {
   "cell_type": "code",
   "execution_count": 5,
   "metadata": {},
   "outputs": [],
   "source": [
    "def TestAccuracy(clf,X_test,y_test, display=False):\n",
    "    \n",
    "    y_pred  = clf.predict( X_test.values)  \n",
    "    results = ( y_test.values[:,0]==y_pred )\n",
    "\n",
    "    if display:\n",
    "        nEntries, dummy = X_test.shape\n",
    "        for i in range(nEntries):\n",
    "            print(X_test.iloc[i])\n",
    "            print(\"Class=%s Prediction %s %s\\n\"%(y_test.values[i,0],y_pred[i],results[i]) )\n",
    "        #print(\"prediction\",results)\n",
    "\n",
    "    # accuracy\n",
    "    nTrue = np.sum( results )\n",
    "    nTot = np.float( np.shape( results)[0] )\n",
    "    accuracy = nTrue/nTot\n",
    "    print(\"Overall accuracy \",accuracy)\n",
    "\n",
    "    \n",
    "def TestAccuracySingle(clf,X_test,Y_test,idx=0):\n",
    "    \n",
    "    print(X_test.iloc[idx])\n",
    "    result = clf.predict( [X_test.values[idx,:]])\n",
    "    print(\"prediction\",result)\n",
    "    #print(Y_test.iloc[idx])"
   ]
  },
  {
   "cell_type": "code",
   "execution_count": 6,
   "metadata": {},
   "outputs": [],
   "source": [
    "#TestAccuracy(clf_entropy,X_test,Y_test,display=True)"
   ]
  },
  {
   "cell_type": "markdown",
   "metadata": {},
   "source": [
    "### Example with hERG data "
   ]
  },
  {
   "cell_type": "code",
   "execution_count": 7,
   "metadata": {},
   "outputs": [],
   "source": [
    "import pandas as pd"
   ]
  },
  {
   "cell_type": "code",
   "execution_count": 8,
   "metadata": {},
   "outputs": [
    {
     "data": {
      "text/plain": [
       "'/Users/drkal/Desktop/professional/peter-lab/herg-project/machine-learning/my-work/svm/pas-domain/bioinformatics-unbalanced-trafficking'"
      ]
     },
     "execution_count": 8,
     "metadata": {},
     "output_type": "execute_result"
    }
   ],
   "source": [
    "os.getcwd()"
   ]
  },
  {
   "cell_type": "code",
   "execution_count": 9,
   "metadata": {},
   "outputs": [
    {
     "data": {
      "text/html": [
       "<div>\n",
       "<style scoped>\n",
       "    .dataframe tbody tr th:only-of-type {\n",
       "        vertical-align: middle;\n",
       "    }\n",
       "\n",
       "    .dataframe tbody tr th {\n",
       "        vertical-align: top;\n",
       "    }\n",
       "\n",
       "    .dataframe thead th {\n",
       "        text-align: right;\n",
       "    }\n",
       "</style>\n",
       "<table border=\"1\" class=\"dataframe\">\n",
       "  <thead>\n",
       "    <tr style=\"text-align: right;\">\n",
       "      <th></th>\n",
       "      <th>VARIANT</th>\n",
       "      <th>HELIX</th>\n",
       "      <th>TURNS</th>\n",
       "      <th>COILS</th>\n",
       "      <th>THREE-TEN</th>\n",
       "      <th>BETA</th>\n",
       "      <th>ISOLATED</th>\n",
       "      <th>RMSD</th>\n",
       "      <th>HBONDS</th>\n",
       "      <th>SASA</th>\n",
       "      <th>WATERS</th>\n",
       "      <th>FOLDX</th>\n",
       "      <th>CONSERVATION</th>\n",
       "      <th>HYDROPHOBICITY</th>\n",
       "      <th>CLASS</th>\n",
       "      <th>TRAFFICKING</th>\n",
       "    </tr>\n",
       "  </thead>\n",
       "  <tbody>\n",
       "    <tr>\n",
       "      <th>0</th>\n",
       "      <td>a32t</td>\n",
       "      <td>21.1567</td>\n",
       "      <td>21.2058</td>\n",
       "      <td>14.4202</td>\n",
       "      <td>3.29401</td>\n",
       "      <td>39.6439</td>\n",
       "      <td>0.279349</td>\n",
       "      <td>1.23560</td>\n",
       "      <td>66.7186</td>\n",
       "      <td>6473.83</td>\n",
       "      <td>1479.93</td>\n",
       "      <td>3.763310</td>\n",
       "      <td>-0.549</td>\n",
       "      <td>-0.43</td>\n",
       "      <td>1</td>\n",
       "      <td>1</td>\n",
       "    </tr>\n",
       "    <tr>\n",
       "      <th>1</th>\n",
       "      <td>a57p</td>\n",
       "      <td>20.4290</td>\n",
       "      <td>21.8332</td>\n",
       "      <td>14.5935</td>\n",
       "      <td>3.53135</td>\n",
       "      <td>39.4690</td>\n",
       "      <td>0.144014</td>\n",
       "      <td>1.28151</td>\n",
       "      <td>66.0936</td>\n",
       "      <td>6477.76</td>\n",
       "      <td>1526.79</td>\n",
       "      <td>-0.764827</td>\n",
       "      <td>-0.312</td>\n",
       "      <td>-0.32</td>\n",
       "      <td>0</td>\n",
       "      <td>1</td>\n",
       "    </tr>\n",
       "    <tr>\n",
       "      <th>2</th>\n",
       "      <td>a78p</td>\n",
       "      <td>20.8206</td>\n",
       "      <td>21.3096</td>\n",
       "      <td>14.5379</td>\n",
       "      <td>3.19232</td>\n",
       "      <td>39.9190</td>\n",
       "      <td>0.220522</td>\n",
       "      <td>1.12505</td>\n",
       "      <td>65.8526</td>\n",
       "      <td>6479.56</td>\n",
       "      <td>1474.41</td>\n",
       "      <td>0.759351</td>\n",
       "      <td>1.487</td>\n",
       "      <td>-0.32</td>\n",
       "      <td>1</td>\n",
       "      <td>1</td>\n",
       "    </tr>\n",
       "    <tr>\n",
       "      <th>3</th>\n",
       "      <td>a85v</td>\n",
       "      <td>20.8686</td>\n",
       "      <td>21.4237</td>\n",
       "      <td>14.6775</td>\n",
       "      <td>3.12031</td>\n",
       "      <td>39.6774</td>\n",
       "      <td>0.232523</td>\n",
       "      <td>1.16450</td>\n",
       "      <td>65.4562</td>\n",
       "      <td>6544.62</td>\n",
       "      <td>1492.34</td>\n",
       "      <td>2.430410</td>\n",
       "      <td>-0.518</td>\n",
       "      <td>0.29</td>\n",
       "      <td>1</td>\n",
       "      <td>1</td>\n",
       "    </tr>\n",
       "    <tr>\n",
       "      <th>4</th>\n",
       "      <td>c108r</td>\n",
       "      <td>22.1452</td>\n",
       "      <td>21.1476</td>\n",
       "      <td>15.3975</td>\n",
       "      <td>2.75727</td>\n",
       "      <td>38.2283</td>\n",
       "      <td>0.324033</td>\n",
       "      <td>1.58552</td>\n",
       "      <td>62.7131</td>\n",
       "      <td>6753.12</td>\n",
       "      <td>1548.93</td>\n",
       "      <td>6.958320</td>\n",
       "      <td>0.745</td>\n",
       "      <td>-1.84</td>\n",
       "      <td>1</td>\n",
       "      <td>0</td>\n",
       "    </tr>\n",
       "  </tbody>\n",
       "</table>\n",
       "</div>"
      ],
      "text/plain": [
       "  VARIANT    HELIX    TURNS    COILS  THREE-TEN     BETA  ISOLATED     RMSD  \\\n",
       "0    a32t  21.1567  21.2058  14.4202    3.29401  39.6439  0.279349  1.23560   \n",
       "1    a57p  20.4290  21.8332  14.5935    3.53135  39.4690  0.144014  1.28151   \n",
       "2    a78p  20.8206  21.3096  14.5379    3.19232  39.9190  0.220522  1.12505   \n",
       "3    a85v  20.8686  21.4237  14.6775    3.12031  39.6774  0.232523  1.16450   \n",
       "4   c108r  22.1452  21.1476  15.3975    2.75727  38.2283  0.324033  1.58552   \n",
       "\n",
       "    HBONDS     SASA   WATERS     FOLDX  CONSERVATION  HYDROPHOBICITY  CLASS  \\\n",
       "0  66.7186  6473.83  1479.93  3.763310        -0.549           -0.43      1   \n",
       "1  66.0936  6477.76  1526.79 -0.764827        -0.312           -0.32      0   \n",
       "2  65.8526  6479.56  1474.41  0.759351         1.487           -0.32      1   \n",
       "3  65.4562  6544.62  1492.34  2.430410        -0.518            0.29      1   \n",
       "4  62.7131  6753.12  1548.93  6.958320         0.745           -1.84      1   \n",
       "\n",
       "   TRAFFICKING  \n",
       "0            1  \n",
       "1            1  \n",
       "2            1  \n",
       "3            1  \n",
       "4            0  "
      ]
     },
     "execution_count": 9,
     "metadata": {},
     "output_type": "execute_result"
    }
   ],
   "source": [
    "dataFile = \"features-latest-sets1n2.txt\"\n",
    "df = pd.read_csv(dataFile, sep=\"\\s+\", comment='#')\n",
    "df.head()"
   ]
  },
  {
   "cell_type": "code",
   "execution_count": 10,
   "metadata": {},
   "outputs": [],
   "source": [
    "df['FOLDX'] = df['FOLDX'].round(2)\n",
    "df['CONSERVATION'] = df['CONSERVATION'].round(2)\n",
    "df['HYDROPHOBICITY'] = df['HYDROPHOBICITY'].round(2)\n",
    "#df.head()"
   ]
  },
  {
   "cell_type": "code",
   "execution_count": 11,
   "metadata": {},
   "outputs": [],
   "source": [
    "features=[\"FOLDX\",\"CONSERVATION\",\"HYDROPHOBICITY\"]\n",
    "output = [\"TRAFFICKING\"]\n",
    "\n",
    "#X = df[features1]\n",
    "X = df[features]\n",
    "Y = df[output]"
   ]
  },
  {
   "cell_type": "code",
   "execution_count": 12,
   "metadata": {},
   "outputs": [],
   "source": [
    "#from pandas import DataFrame\n",
    "\n",
    "#scaler = MinMaxScaler()\n",
    "#model=scaler.fit(X)\n",
    "#scaledX=model.transform(X)\n",
    "#X = DataFrame(scaledX)"
   ]
  },
  {
   "cell_type": "code",
   "execution_count": 13,
   "metadata": {},
   "outputs": [],
   "source": [
    "X_train, X_test, Y_train, Y_test =\\\n",
    "  train_test_split(X, Y, train_size=0.7, test_size=0.3, random_state=50)"
   ]
  },
  {
   "cell_type": "markdown",
   "metadata": {},
   "source": [
    "<font color=red> Data looks very unbalanced</font>"
   ]
  },
  {
   "cell_type": "code",
   "execution_count": 14,
   "metadata": {},
   "outputs": [],
   "source": [
    "### upsample the minority class, which is benign (class 2 = 0)"
   ]
  },
  {
   "cell_type": "code",
   "execution_count": 15,
   "metadata": {},
   "outputs": [],
   "source": [
    "# concatenate our traning data back together\n",
    "#C = pd.concat([X_train, Y_train], axis=1)"
   ]
  },
  {
   "cell_type": "code",
   "execution_count": 16,
   "metadata": {},
   "outputs": [],
   "source": [
    "#group = C.groupby('TRAFFICKING')\n",
    "#trafficking=list(group)[1][1]\n",
    "#nontrafficking=list(group)[0][1]"
   ]
  },
  {
   "cell_type": "code",
   "execution_count": 17,
   "metadata": {},
   "outputs": [],
   "source": [
    "#nontrafficking_upsampled = resample(nontrafficking,\n",
    "#                            replace=True, #sample with replacement\n",
    "#                            n_samples=len(trafficking), #match number in majority class\n",
    "#                            random_state=50 #reproduce results\n",
    " #       )"
   ]
  },
  {
   "cell_type": "code",
   "execution_count": 18,
   "metadata": {},
   "outputs": [],
   "source": [
    "#combine majority and upsampled minority\n",
    "#upsampled = pd.concat([trafficking, nontrafficking_upsampled])"
   ]
  },
  {
   "cell_type": "markdown",
   "metadata": {},
   "source": [
    "Using class_weight=\"balanced\" to reweight classes based on class frequency"
   ]
  },
  {
   "cell_type": "code",
   "execution_count": 19,
   "metadata": {},
   "outputs": [],
   "source": [
    "#initializing the classifier and fitting it. using linear kernel since it is easy to plot feature importance, for others hard to interpret\n",
    "clf_svm = SVC(gamma='auto', random_state=50, max_iter=10000, kernel='linear', probability=True)"
   ]
  },
  {
   "cell_type": "code",
   "execution_count": 20,
   "metadata": {},
   "outputs": [],
   "source": [
    "# train the classifier with resampled data\n",
    "#X_train=pd.DataFrame(upsampled, columns=[\"HELIX\",\"TURNS\",\"COILS\",\"THREE-TEN\",\"BETA\",\"RMSD\",\"HBONDS\",\"SASA\",\"WATERS\",\"FOLDX\",\"CONSERVATION\",\"HYDROPHOBICITY\"])\n",
    "#Y_train=pd.DataFrame(upsampled, columns=[\"TRAFFICKING\"])\n",
    "\n",
    "model=clf_svm.fit(X_train, Y_train.values.ravel())\n",
    "#model=clf_svm.fit(scaledX_train, Y_train.values.ravel())"
   ]
  },
  {
   "cell_type": "code",
   "execution_count": 21,
   "metadata": {},
   "outputs": [
    {
     "name": "stdout",
     "output_type": "stream",
     "text": [
      "Training sample accuracy\n",
      "Overall accuracy  0.6730769230769231\n"
     ]
    }
   ],
   "source": [
    "# print training accuracy\n",
    "print(\"Training sample accuracy\")\n",
    "TestAccuracy(clf_svm, X_train, Y_train)\n",
    "#TestAccuracy(clf_svm, scaledX_train, Y_train)"
   ]
  },
  {
   "cell_type": "code",
   "execution_count": 22,
   "metadata": {
    "scrolled": true
   },
   "outputs": [],
   "source": [
    "#classNames=np.array(['0', '1']) # need to verify, but I think this is correct\n",
    "classNames=np.array(['non-trafficking', 'trafficking']) # need to verify, but I think this is correct\n",
    "#plotDT(clf_entropy,featureNames=features, classNames=classNames)"
   ]
  },
  {
   "cell_type": "code",
   "execution_count": 23,
   "metadata": {
    "scrolled": true
   },
   "outputs": [
    {
     "name": "stdout",
     "output_type": "stream",
     "text": [
      "Test Accuracy\n",
      "Overall accuracy  0.6521739130434783\n"
     ]
    }
   ],
   "source": [
    "#TestAccuracy(clf_entropy,X_test,Y_test, display=True)\n",
    "print('Test Accuracy')\n",
    "TestAccuracy(clf_svm, X_test, Y_test)"
   ]
  },
  {
   "cell_type": "code",
   "execution_count": 24,
   "metadata": {},
   "outputs": [],
   "source": [
    "y_predict = clf_svm.predict(X_test.values)"
   ]
  },
  {
   "cell_type": "code",
   "execution_count": 25,
   "metadata": {},
   "outputs": [
    {
     "name": "stdout",
     "output_type": "stream",
     "text": [
      "                 precision    recall  f1-score   support\n",
      "\n",
      "non-trafficking       1.00      0.33      0.50        12\n",
      "    trafficking       0.58      1.00      0.73        11\n",
      "\n",
      "       accuracy                           0.65        23\n",
      "      macro avg       0.79      0.67      0.62        23\n",
      "   weighted avg       0.80      0.65      0.61        23\n",
      "\n"
     ]
    }
   ],
   "source": [
    "# Print overall classification metrics\n",
    "print(classification_report(Y_test, y_predict, target_names=classNames))"
   ]
  },
  {
   "cell_type": "code",
   "execution_count": 26,
   "metadata": {
    "scrolled": true
   },
   "outputs": [
    {
     "data": {
      "image/png": "[encoded data removed]",
      "text/plain": [
       "<Figure size 432x288 with 2 Axes>"
      ]
     },
     "metadata": {
      "needs_background": "light"
     },
     "output_type": "display_data"
    }
   ],
   "source": [
    "#print(confusion_matrix(Y_test, y_predict))\n",
    "plot_confusion_matrix(clf_svm, X_test, Y_test)\n",
    "plt.savefig('svm_cm.pdf')"
   ]
  },
  {
   "cell_type": "code",
   "execution_count": 27,
   "metadata": {
    "scrolled": false
   },
   "outputs": [
    {
     "data": {
      "image/png": "[encoded data removed]",
      "text/plain": [
       "<Figure size 432x288 with 1 Axes>"
      ]
     },
     "metadata": {
      "needs_background": "light"
     },
     "output_type": "display_data"
    }
   ],
   "source": [
    "# print feature importance\n",
    "#this option to plot importance features only apply to linear kernel in SVM\n",
    "pd.Series(abs(clf_svm.coef_[0]), index=X.columns).nlargest(15).plot(kind='barh', color=\"orange\")\n",
    "plt.title('Feature Importances - Bioinformatics Features (SVM)')\n",
    "plt.savefig('svm_fi_bio_features.png', bbox_inches='tight')"
   ]
  },
  {
   "cell_type": "code",
   "execution_count": 28,
   "metadata": {},
   "outputs": [],
   "source": [
    "F=df[['FOLDX']]\n",
    "CO=df[[\"CONSERVATION\"]]\n",
    "HY=df[[\"HYDROPHOBICITY\"]]\n",
    "\n",
    "Y = df[\"TRAFFICKING\"]\n",
    "\n",
    "#redifined the classifier for one feature\n",
    "clf_svm = SVC(gamma='auto', random_state=50, max_iter=10000, kernel='linear', probability=True)\n",
    "\n",
    "#entire model\n",
    "y_predict = clf_svm.fit(X_train,Y_train.values.ravel()).predict_proba(X_test)\n",
    "fpr, tpr, thr = metrics.roc_curve(Y_test, y_predict[:,1])\n",
    "auc = metrics.auc(fpr, tpr)\n",
    "\n",
    "#foldx\n",
    "fx_train, fx_test, fy_train, fy_test = train_test_split(F, Y, train_size=0.7, test_size=0.3, random_state=50)\n",
    "fy_predict = clf_svm.fit(fx_train, fy_train).predict_proba(fx_test)\n",
    "f_foldx, t_foldx, th_foldx = metrics.roc_curve(fy_test, fy_predict[:,1], pos_label=1, drop_intermediate=False)\n",
    "foldx_auc = metrics.auc(f_foldx, t_foldx)\n",
    "\n",
    "#hydrophobicity\n",
    "hyx_train, hyx_test, hyy_train, hyy_test = train_test_split(HY, Y, train_size=0.7, test_size=0.3, random_state=50)\n",
    "hyy_predict = clf_svm.fit(hyx_train, hyy_train).predict_proba(hyx_test)\n",
    "f_hydr, t_hydr, th_hydr = metrics.roc_curve(hyy_test, hyy_predict[:,1], drop_intermediate=False)\n",
    "hydr_auc = metrics.auc(f_hydr, t_hydr)\n",
    "\n",
    "#conservation\n",
    "cox_train, cox_test, coy_train, coy_test = train_test_split(CO, Y, train_size=0.7, test_size=0.3, random_state=50)\n",
    "coy_score = clf_svm.fit(cox_train, coy_train).predict_proba(cox_test)\n",
    "f_cons, t_cons, th_cons = metrics.roc_curve(coy_test, coy_score[:,1], pos_label=1, drop_intermediate=False)\n",
    "cons_auc = metrics.auc(f_cons, t_cons)\n"
   ]
  },
  {
   "cell_type": "code",
   "execution_count": 29,
   "metadata": {},
   "outputs": [
    {
     "name": "stdout",
     "output_type": "stream",
     "text": [
      "[0.         0.08333333 0.66666667 0.66666667 0.75       0.75\n",
      " 0.83333333 0.83333333 0.91666667 0.91666667 1.         1.        ]\n",
      "[0.         0.         0.         0.09090909 0.09090909 0.18181818\n",
      " 0.18181818 0.27272727 0.27272727 0.72727273 0.72727273 1.        ]\n",
      "0.10606060606060608\n"
     ]
    }
   ],
   "source": [
    "print(fpr)\n",
    "print(tpr)\n",
    "print(auc)"
   ]
  },
  {
   "cell_type": "code",
   "execution_count": 31,
   "metadata": {},
   "outputs": [
    {
     "data": {
      "image/png": "[encoded data removed]",
      "text/plain": [
       "<Figure size 432x288 with 1 Axes>"
      ]
     },
     "metadata": {
      "needs_background": "light"
     },
     "output_type": "display_data"
    }
   ],
   "source": [
    "#plot the roc curves of rmsd, waters and hbonds. auc is area under the curve\n",
    "#plt.figure(figsize=(5, 5))\n",
    "#plot_roc_curve(clf_svm, X_test, Y_test, color='cyan')\n",
    "plt.plot (fpr, tpr, color='cyan', label=\"SVMClassifier (AUC=%0.2f)\"%auc)\n",
    "plt.plot (f_foldx, t_foldx, color='magenta', label=\"FoldX (AUC=%0.2f)\"% foldx_auc)\n",
    "plt.plot (f_cons, t_cons, color='blue', label=\"Conservation (AUC=%0.2f)\"% cons_auc)\n",
    "plt.plot (f_hydr, t_hydr, color='black', label=\"Hydrophobicity (AUC=%0.2f)\"% hydr_auc)\n",
    "plt.plot([0, 1], [0, 1], color='navy', linestyle='--', label='Random')\n",
    "\n",
    "plt.title('ROC curve - Bioinformatics Features (SVM)')\n",
    "plt.xlabel(\"FPR\")\n",
    "plt.ylabel(\"TPR\")\n",
    "plt.legend(loc=\"lower right\")\n",
    "\n",
    "plt.legend(bbox_to_anchor=(1,1), loc='upper left')\n",
    "plt.savefig('svm_roc_bio_features.pdf', bbox_inches='tight')"
   ]
  },
  {
   "cell_type": "code",
   "execution_count": null,
   "metadata": {},
   "outputs": [],
   "source": []
  }
 ],
 "metadata": {
  "kernelspec": {
   "display_name": "Python 3",
   "language": "python",
   "name": "python3"
  },
  "language_info": {
   "codemirror_mode": {
    "name": "ipython",
    "version": 3
   },
   "file_extension": ".py",
   "mimetype": "text/x-python",
   "name": "python",
   "nbconvert_exporter": "python",
   "pygments_lexer": "ipython3",
   "version": "3.8.6"
  }
 },
 "nbformat": 4,
 "nbformat_minor": 2
}
